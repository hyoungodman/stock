{
 "cells": [
  {
   "cell_type": "code",
   "execution_count": 44,
   "id": "70fde35d",
   "metadata": {},
   "outputs": [],
   "source": [
    "import pandas as pd\n",
    "import numpy as np=\n",
    "news = pd.read_csv('filtered_news.csv')"
   ]
  },
  {
   "cell_type": "code",
   "execution_count": 40,
   "id": "afb39437",
   "metadata": {},
   "outputs": [
    {
     "data": {
      "text/html": [
       "<div>\n",
       "<style scoped>\n",
       "    .dataframe tbody tr th:only-of-type {\n",
       "        vertical-align: middle;\n",
       "    }\n",
       "\n",
       "    .dataframe tbody tr th {\n",
       "        vertical-align: top;\n",
       "    }\n",
       "\n",
       "    .dataframe thead th {\n",
       "        text-align: right;\n",
       "    }\n",
       "</style>\n",
       "<table border=\"1\" class=\"dataframe\">\n",
       "  <thead>\n",
       "    <tr style=\"text-align: right;\">\n",
       "      <th></th>\n",
       "      <th>날짜</th>\n",
       "      <th>종목명</th>\n",
       "      <th>기사제목</th>\n",
       "    </tr>\n",
       "  </thead>\n",
       "  <tbody>\n",
       "    <tr>\n",
       "      <th>0</th>\n",
       "      <td>2023-06-12 16:39:00</td>\n",
       "      <td>LG에너지솔루션</td>\n",
       "      <td>美 배터리 생산도 보조금도 늘어…LG엔솔, 2분기에도 기록 경신?</td>\n",
       "    </tr>\n",
       "    <tr>\n",
       "      <th>1</th>\n",
       "      <td>2023-06-12 15:28:00</td>\n",
       "      <td>LG에너지솔루션</td>\n",
       "      <td>\"어린이집 입소하러 오창 가야겠네\"…LG엔솔, 600평 규모 어린이집 ...</td>\n",
       "    </tr>\n",
       "    <tr>\n",
       "      <th>2</th>\n",
       "      <td>2023-06-12 14:10:00</td>\n",
       "      <td>LG에너지솔루션</td>\n",
       "      <td>“LG엔솔 어린이집 입소하러 오창으로 이사갈래요”</td>\n",
       "    </tr>\n",
       "    <tr>\n",
       "      <th>3</th>\n",
       "      <td>2023-06-12 11:48:00</td>\n",
       "      <td>LG에너지솔루션</td>\n",
       "      <td>LG엔솔, 오창에너지플랜트에 두번째 직장어린이집 개원</td>\n",
       "    </tr>\n",
       "    <tr>\n",
       "      <th>4</th>\n",
       "      <td>2023-06-12 11:46:00</td>\n",
       "      <td>LG에너지솔루션</td>\n",
       "      <td>[충북소식] LG엔솔 오창플랜트 어린이집 개원</td>\n",
       "    </tr>\n",
       "    <tr>\n",
       "      <th>...</th>\n",
       "      <td>...</td>\n",
       "      <td>...</td>\n",
       "      <td>...</td>\n",
       "    </tr>\n",
       "    <tr>\n",
       "      <th>65697</th>\n",
       "      <td>2022-06-13 14:35:00</td>\n",
       "      <td>하나금융지주</td>\n",
       "      <td>금감원 \"헬스케어펀드 불완전판매 하나은행 최대 80% 배상해야\"</td>\n",
       "    </tr>\n",
       "    <tr>\n",
       "      <th>65698</th>\n",
       "      <td>2022-06-13 14:28:00</td>\n",
       "      <td>하나금융지주</td>\n",
       "      <td>금감원 \"하나은행, '伊 헬스케어펀드' 최대 80% 배상\"(상보)</td>\n",
       "    </tr>\n",
       "    <tr>\n",
       "      <th>65699</th>\n",
       "      <td>2022-06-13 14:27:00</td>\n",
       "      <td>하나금융지주</td>\n",
       "      <td>분조위 “하나은행, 헬스케어펀드 투자자에 80% 보상”</td>\n",
       "    </tr>\n",
       "    <tr>\n",
       "      <th>65700</th>\n",
       "      <td>2022-06-13 13:46:00</td>\n",
       "      <td>하나금융지주</td>\n",
       "      <td>[속보]'伊 헬스케어펀드' 판매 하나은행, 최대 80% 배상 결정</td>\n",
       "    </tr>\n",
       "    <tr>\n",
       "      <th>65701</th>\n",
       "      <td>2022-06-13 08:46:00</td>\n",
       "      <td>하나금융지주</td>\n",
       "      <td>하나카드, 하나은행과 ‘하나원큐 레디투고’ 이벤트 진행</td>\n",
       "    </tr>\n",
       "  </tbody>\n",
       "</table>\n",
       "<p>65702 rows × 3 columns</p>\n",
       "</div>"
      ],
      "text/plain": [
       "                        날짜       종목명  \\\n",
       "0      2023-06-12 16:39:00  LG에너지솔루션   \n",
       "1      2023-06-12 15:28:00  LG에너지솔루션   \n",
       "2      2023-06-12 14:10:00  LG에너지솔루션   \n",
       "3      2023-06-12 11:48:00  LG에너지솔루션   \n",
       "4      2023-06-12 11:46:00  LG에너지솔루션   \n",
       "...                    ...       ...   \n",
       "65697  2022-06-13 14:35:00    하나금융지주   \n",
       "65698  2022-06-13 14:28:00    하나금융지주   \n",
       "65699  2022-06-13 14:27:00    하나금융지주   \n",
       "65700  2022-06-13 13:46:00    하나금융지주   \n",
       "65701  2022-06-13 08:46:00    하나금융지주   \n",
       "\n",
       "                                             기사제목  \n",
       "0            美 배터리 생산도 보조금도 늘어…LG엔솔, 2분기에도 기록 경신?  \n",
       "1      \"어린이집 입소하러 오창 가야겠네\"…LG엔솔, 600평 규모 어린이집 ...  \n",
       "2                     “LG엔솔 어린이집 입소하러 오창으로 이사갈래요”  \n",
       "3                   LG엔솔, 오창에너지플랜트에 두번째 직장어린이집 개원  \n",
       "4                       [충북소식] LG엔솔 오창플랜트 어린이집 개원  \n",
       "...                                           ...  \n",
       "65697         금감원 \"헬스케어펀드 불완전판매 하나은행 최대 80% 배상해야\"  \n",
       "65698        금감원 \"하나은행, '伊 헬스케어펀드' 최대 80% 배상\"(상보)  \n",
       "65699              분조위 “하나은행, 헬스케어펀드 투자자에 80% 보상”  \n",
       "65700        [속보]'伊 헬스케어펀드' 판매 하나은행, 최대 80% 배상 결정  \n",
       "65701              하나카드, 하나은행과 ‘하나원큐 레디투고’ 이벤트 진행  \n",
       "\n",
       "[65702 rows x 3 columns]"
      ]
     },
     "execution_count": 40,
     "metadata": {},
     "output_type": "execute_result"
    }
   ],
   "source": [
    "news"
   ]
  },
  {
   "cell_type": "code",
   "execution_count": 41,
   "id": "cdf8aa9a",
   "metadata": {},
   "outputs": [],
   "source": [
    "from transformers import AutoTokenizer, AutoModelForSequenceClassification\n",
    "\n",
    "tokenizer = AutoTokenizer.from_pretrained(\"snunlp/KR-FinBert-SC\")\n",
    "\n",
    "model = AutoModelForSequenceClassification.from_pretrained(\"snunlp/KR-FinBert-SC\")"
   ]
  },
  {
   "cell_type": "code",
   "execution_count": 42,
   "id": "ee4aff50",
   "metadata": {
    "collapsed": true
   },
   "outputs": [
    {
     "name": "stdout",
     "output_type": "stream",
     "text": [
      "Requirement already satisfied: xformers in c:\\anaconda3\\envs\\nam\\lib\\site-packages (0.0.20)\n",
      "Requirement already satisfied: numpy in c:\\anaconda3\\envs\\nam\\lib\\site-packages (from xformers) (1.24.3)\n",
      "Requirement already satisfied: pyre-extensions==0.0.29 in c:\\anaconda3\\envs\\nam\\lib\\site-packages (from xformers) (0.0.29)\n",
      "Requirement already satisfied: torch==2.0.1 in c:\\anaconda3\\envs\\nam\\lib\\site-packages (from xformers) (2.0.1)\n",
      "Requirement already satisfied: typing-inspect in c:\\anaconda3\\envs\\nam\\lib\\site-packages (from pyre-extensions==0.0.29->xformers) (0.9.0)\n",
      "Requirement already satisfied: typing-extensions in c:\\anaconda3\\envs\\nam\\lib\\site-packages (from pyre-extensions==0.0.29->xformers) (4.4.0)\n",
      "Requirement already satisfied: sympy in c:\\anaconda3\\envs\\nam\\lib\\site-packages (from torch==2.0.1->xformers) (1.12)\n",
      "Requirement already satisfied: filelock in c:\\anaconda3\\envs\\nam\\lib\\site-packages (from torch==2.0.1->xformers) (3.12.0)\n",
      "Requirement already satisfied: jinja2 in c:\\anaconda3\\envs\\nam\\lib\\site-packages (from torch==2.0.1->xformers) (3.1.2)\n",
      "Requirement already satisfied: networkx in c:\\anaconda3\\envs\\nam\\lib\\site-packages (from torch==2.0.1->xformers) (3.1)\n",
      "Requirement already satisfied: MarkupSafe>=2.0 in c:\\anaconda3\\envs\\nam\\lib\\site-packages (from jinja2->torch==2.0.1->xformers) (2.1.1)\n",
      "Requirement already satisfied: mpmath>=0.19 in c:\\anaconda3\\envs\\nam\\lib\\site-packages (from sympy->torch==2.0.1->xformers) (1.3.0)\n",
      "Requirement already satisfied: mypy-extensions>=0.3.0 in c:\\anaconda3\\envs\\nam\\lib\\site-packages (from typing-inspect->pyre-extensions==0.0.29->xformers) (1.0.0)\n"
     ]
    }
   ],
   "source": [
    "!pip install xformers"
   ]
  },
  {
   "cell_type": "code",
   "execution_count": 43,
   "id": "14ba33b8",
   "metadata": {},
   "outputs": [],
   "source": [
    "from transformers import pipeline\n",
    "\n",
    "classifier = pipeline(\"sentiment-analysis\", tokenizer=tokenizer, model=model)"
   ]
  },
  {
   "cell_type": "code",
   "execution_count": null,
   "id": "c32d4233",
   "metadata": {},
   "outputs": [],
   "source": [
    "import time"
   ]
  },
  {
   "cell_type": "markdown",
   "id": "6fc4d38b",
   "metadata": {},
   "source": [
    "# 감정점수 출력"
   ]
  },
  {
   "cell_type": "markdown",
   "id": "552dd169",
   "metadata": {},
   "source": []
  },
  {
   "cell_type": "code",
   "execution_count": 45,
   "id": "f8dad1f1",
   "metadata": {},
   "outputs": [],
   "source": [
    "# 감정 분석 수행 및 결과 저장\n",
    "sentiments = []\n",
    "for i in range(len(news)):\n",
    "    text = news.loc[i, '기사제목']\n",
    "    result = classifier(text)\n",
    "    sentiment = result[0]['label']\n",
    "    score = result[0]['score']\n",
    "    sentiments.append({'sentiment': sentiment, 'score': score})\n",
    "\n",
    "# 결과를 DataFrame에 저장\n",
    "sentiment_df = pd.DataFrame(sentiments)\n",
    "\n",
    "# 감정 상태 매핑\n",
    "sentiment_mapping = {'neutral': 0, 'positive': 1, 'negative': 2}\n",
    "sentiment_df['감정상태'] = sentiment_df['sentiment'].map(sentiment_mapping)\n",
    "\n",
    "# 원본 데이터에 감정 점수 및 감정 상태 추가\n",
    "news['감정상태'] = sentiment_df['감정상태']\n",
    "\n",
    "# CSV 파일로 저장\n",
    "news.to_csv('crawled_news_with_sentiment.csv', index=False, encoding='utf-8-sig')\n"
   ]
  },
  {
   "cell_type": "markdown",
   "id": "1f117c5d",
   "metadata": {},
   "source": [
    "## 감정분석한 데이터 종목별로 csv 저장"
   ]
  },
  {
   "cell_type": "markdown",
   "id": "315e6705",
   "metadata": {},
   "source": []
  },
  {
   "cell_type": "code",
   "execution_count": 48,
   "id": "feb0566a",
   "metadata": {},
   "outputs": [],
   "source": [
    "import os\n",
    "\n",
    "# 디렉토리 경로\n",
    "directory = 'C:/Crawling2023/stock/Top25_news_감정분석'\n",
    "\n",
    "\n",
    "# 종목별로 CSV 파일 저장\n",
    "for company_name, group in news.groupby('종목명'):\n",
    "    # 종목별 DataFrame\n",
    "    company_df = group.copy()\n",
    "    \n",
    "    # 종목명에 특수문자가 포함된 경우 제거\n",
    "    #company_name = ''.join(e for e in company_name if e.isalnum())\n",
    "    \n",
    "    # 파일 경로\n",
    "    file_name = os.path.join(directory, f'{company_name}_감정분석.csv')\n",
    "    \n",
    "    # CSV 파일로 저장\n",
    "    company_df.to_csv(file_name, index=False, encoding='utf-8-sig')\n"
   ]
  },
  {
   "cell_type": "code",
   "execution_count": 5,
   "id": "78dc5c43",
   "metadata": {},
   "outputs": [],
   "source": [
    "import pandas as pd\n",
    "\n",
    "# CSV 파일 불러오기\n",
    "df = pd.read_csv('crawled_news_with_sentiment.csv')\n",
    "\n",
    "# 필요한 컬럼 선택\n",
    "selected_columns = ['날짜', '감정상태']\n",
    "df_selected = df[selected_columns]\n",
    "\n",
    "# 컬럼 이름 변경\n",
    "df_selected = df_selected.rename(columns={'날짜': 'Date', '감정상태': 'Emotion'})\n",
    "\n",
    "# 종목별로 CSV 파일 저장\n",
    "unique_stocks = df['종목명'].unique()\n",
    "for stock in unique_stocks:\n",
    "    stock_data = df_selected[df['종목명'] == stock]\n",
    "    filename = f'C:/Crawling2023/stock/Top25_news_감정상태/{stock}.csv'\n",
    "    stock_data.to_csv(filename, index=False, encoding='utf-8-sig')\n"
   ]
  },
  {
   "cell_type": "code",
   "execution_count": null,
   "id": "99731c15",
   "metadata": {},
   "outputs": [],
   "source": []
  }
 ],
 "metadata": {
  "kernelspec": {
   "display_name": "crawling2023",
   "language": "python",
   "name": "nam"
  },
  "language_info": {
   "codemirror_mode": {
    "name": "ipython",
    "version": 3
   },
   "file_extension": ".py",
   "mimetype": "text/x-python",
   "name": "python",
   "nbconvert_exporter": "python",
   "pygments_lexer": "ipython3",
   "version": "3.9.15"
  }
 },
 "nbformat": 4,
 "nbformat_minor": 5
}
